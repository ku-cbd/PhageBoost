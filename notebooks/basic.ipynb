{
 "cells": [
  {
   "cell_type": "code",
   "execution_count": 1,
   "metadata": {},
   "outputs": [],
   "source": [
    "from PhageBoost.main import read_sequence_file, call_genes, calculate_features, read_model_from_file, predict, get_predictions\n",
    "\n",
    "import pandas as pd\n",
    "import xgboost as xgb"
   ]
  },
  {
   "cell_type": "code",
   "execution_count": 2,
   "metadata": {},
   "outputs": [],
   "source": [
    "# parameters...\n",
    "\n",
    "\n",
    "meta = False # Prodigal gene calling in metagenomic?\n",
    "\n",
    "# rolling params\n",
    "period = 20\n",
    "win_type = 'parzen'\n",
    "min_periods = 1\n",
    "\n",
    "# region finding params\n",
    "threshold = 0.9\n",
    "length = 10\n",
    "gaps = 5\n",
    "neighbouring = 0\n",
    "alpha = 0.001\n",
    "\n",
    "## not used currently\n",
    "min_size_of_contig = 10000\n",
    "search_region = 5500\n",
    "inwards = 500\n",
    "n_jobs = 1\n"
   ]
  },
  {
   "cell_type": "code",
   "execution_count": 3,
   "metadata": {},
   "outputs": [],
   "source": [
    "# files\n",
    "model_file = '../PhageBoost/models/model_delta_std_hacked.pickled.silent.gz'\n",
    "fasta_file = '../example/data/NC_000907.fasta.gz'"
   ]
  },
  {
   "cell_type": "code",
   "execution_count": 4,
   "metadata": {},
   "outputs": [],
   "source": [
    "# read fasta\n",
    "fasta, meta = read_sequence_file(fasta_file)"
   ]
  },
  {
   "cell_type": "code",
   "execution_count": 5,
   "metadata": {},
   "outputs": [],
   "source": [
    "# get genecalls using a wrapper pyrodigal https://github.com/althonos/pyrodigal \n",
    "## running the genecalling script twice might break the kernel.\n",
    "genecalls = call_genes(fasta, meta, min_size_of_contig)"
   ]
  },
  {
   "cell_type": "code",
   "execution_count": 6,
   "metadata": {},
   "outputs": [],
   "source": [
    "# calculate features from gene calls\n",
    "df = calculate_features(genecalls)"
   ]
  },
  {
   "cell_type": "code",
   "execution_count": 7,
   "metadata": {},
   "outputs": [],
   "source": [
    "# load model\n",
    "model, feats, feats_, limit = read_model_from_file(model_file)\n",
    "# transform data\n",
    "df = get_predictions.get_deltas(df[feats_])"
   ]
  },
  {
   "cell_type": "code",
   "execution_count": 8,
   "metadata": {},
   "outputs": [],
   "source": [
    "# transform single gene predictions to regions\n",
    "genecalls, nphages, res = predict(model, genecalls, df, \n",
    "                                  feats, period, win_type,\n",
    "                                  min_periods, limit, threshold, \n",
    "                                  length, gaps, neighbouring, alpha)\n"
   ]
  },
  {
   "cell_type": "code",
   "execution_count": 9,
   "metadata": {},
   "outputs": [
    {
     "data": {
      "text/plain": [
       "3"
      ]
     },
     "execution_count": 9,
     "metadata": {},
     "output_type": "execute_result"
    }
   ],
   "source": [
    "nphages"
   ]
  },
  {
   "cell_type": "code",
   "execution_count": 10,
   "metadata": {},
   "outputs": [
    {
     "data": {
      "text/html": [
       "<div>\n",
       "<style scoped>\n",
       "    .dataframe tbody tr th:only-of-type {\n",
       "        vertical-align: middle;\n",
       "    }\n",
       "\n",
       "    .dataframe tbody tr th {\n",
       "        vertical-align: top;\n",
       "    }\n",
       "\n",
       "    .dataframe thead th {\n",
       "        text-align: right;\n",
       "    }\n",
       "</style>\n",
       "<table border=\"1\" class=\"dataframe\">\n",
       "  <thead>\n",
       "    <tr style=\"text-align: right;\">\n",
       "      <th></th>\n",
       "      <th>phage</th>\n",
       "      <th>contig</th>\n",
       "      <th>start</th>\n",
       "      <th>stop</th>\n",
       "      <th>genes</th>\n",
       "      <th>probability</th>\n",
       "    </tr>\n",
       "  </thead>\n",
       "  <tbody>\n",
       "    <tr>\n",
       "      <th>0</th>\n",
       "      <td>phage4</td>\n",
       "      <td>NC_000907.1</td>\n",
       "      <td>1494535</td>\n",
       "      <td>1513073</td>\n",
       "      <td>26</td>\n",
       "      <td>0.745010</td>\n",
       "    </tr>\n",
       "    <tr>\n",
       "      <th>1</th>\n",
       "      <td>phage5</td>\n",
       "      <td>NC_000907.1</td>\n",
       "      <td>1555796</td>\n",
       "      <td>1592771</td>\n",
       "      <td>51</td>\n",
       "      <td>0.804138</td>\n",
       "    </tr>\n",
       "    <tr>\n",
       "      <th>2</th>\n",
       "      <td>phage6</td>\n",
       "      <td>NC_000907.1</td>\n",
       "      <td>1632147</td>\n",
       "      <td>1647673</td>\n",
       "      <td>15</td>\n",
       "      <td>0.538302</td>\n",
       "    </tr>\n",
       "  </tbody>\n",
       "</table>\n",
       "</div>"
      ],
      "text/plain": [
       "    phage       contig    start     stop  genes  probability\n",
       "0  phage4  NC_000907.1  1494535  1513073     26     0.745010\n",
       "1  phage5  NC_000907.1  1555796  1592771     51     0.804138\n",
       "2  phage6  NC_000907.1  1632147  1647673     15     0.538302"
      ]
     },
     "execution_count": 10,
     "metadata": {},
     "output_type": "execute_result"
    }
   ],
   "source": [
    "res"
   ]
  },
  {
   "cell_type": "code",
   "execution_count": 11,
   "metadata": {},
   "outputs": [
    {
     "data": {
      "text/html": [
       "<div>\n",
       "<style scoped>\n",
       "    .dataframe tbody tr th:only-of-type {\n",
       "        vertical-align: middle;\n",
       "    }\n",
       "\n",
       "    .dataframe tbody tr th {\n",
       "        vertical-align: top;\n",
       "    }\n",
       "\n",
       "    .dataframe thead th {\n",
       "        text-align: right;\n",
       "    }\n",
       "</style>\n",
       "<table border=\"1\" class=\"dataframe\">\n",
       "  <thead>\n",
       "    <tr style=\"text-align: right;\">\n",
       "      <th></th>\n",
       "      <th>contig</th>\n",
       "      <th>id</th>\n",
       "      <th>start</th>\n",
       "      <th>stop</th>\n",
       "      <th>direction</th>\n",
       "      <th>partial</th>\n",
       "      <th>DNAseq</th>\n",
       "      <th>AAseq</th>\n",
       "      <th>header</th>\n",
       "      <th>preds</th>\n",
       "      <th>preds20</th>\n",
       "      <th>regions</th>\n",
       "    </tr>\n",
       "  </thead>\n",
       "  <tbody>\n",
       "    <tr>\n",
       "      <th>0</th>\n",
       "      <td>NC_000907.1</td>\n",
       "      <td>0</td>\n",
       "      <td>2</td>\n",
       "      <td>1021</td>\n",
       "      <td>1</td>\n",
       "      <td>1</td>\n",
       "      <td>ATGGCAATTAAAATTGGTATCAATGGTTTTGGTCGTATCGGCCGTA...</td>\n",
       "      <td>MAIKIGINGFGRIGRIVFRAAQHRDDIEVVGINDLIDVEYMAYMLK...</td>\n",
       "      <td>NC_000907.1_0</td>\n",
       "      <td>0.022135</td>\n",
       "      <td>0.089090</td>\n",
       "      <td>0</td>\n",
       "    </tr>\n",
       "    <tr>\n",
       "      <th>1</th>\n",
       "      <td>NC_000907.1</td>\n",
       "      <td>1</td>\n",
       "      <td>1214</td>\n",
       "      <td>3013</td>\n",
       "      <td>1</td>\n",
       "      <td>0</td>\n",
       "      <td>ATGAATCTCGATCTCCATTTTGTTCATCGTATTCAACAACAAGCCA...</td>\n",
       "      <td>MNLDLHFVHRIQQQAKTRTNMTALRYKEHGLWRDISWKNFQEQLNQ...</td>\n",
       "      <td>NC_000907.1_1</td>\n",
       "      <td>0.257689</td>\n",
       "      <td>0.087848</td>\n",
       "      <td>0</td>\n",
       "    </tr>\n",
       "    <tr>\n",
       "      <th>2</th>\n",
       "      <td>NC_000907.1</td>\n",
       "      <td>2</td>\n",
       "      <td>3050</td>\n",
       "      <td>3835</td>\n",
       "      <td>-1</td>\n",
       "      <td>0</td>\n",
       "      <td>ATGTATAAAGCAGTATTTAGTGATTTTAATGGCACCTTATTAACCT...</td>\n",
       "      <td>MYKAVFSDFNGTLLTSQHTISPRTVVVIKRLTANGIPFVPISARSP...</td>\n",
       "      <td>NC_000907.1_2</td>\n",
       "      <td>0.002766</td>\n",
       "      <td>0.086618</td>\n",
       "      <td>0</td>\n",
       "    </tr>\n",
       "    <tr>\n",
       "      <th>3</th>\n",
       "      <td>NC_000907.1</td>\n",
       "      <td>3</td>\n",
       "      <td>3854</td>\n",
       "      <td>4318</td>\n",
       "      <td>-1</td>\n",
       "      <td>0</td>\n",
       "      <td>ATGGGAAGTGTATTGGTTGATTTGCAAATTGCCACAGAAAATATAG...</td>\n",
       "      <td>MGSVLVDLQIATENIEGLPTEEQIVQWATGAVQPEGNEVEMTVRIV...</td>\n",
       "      <td>NC_000907.1_3</td>\n",
       "      <td>0.051427</td>\n",
       "      <td>0.086698</td>\n",
       "      <td>0</td>\n",
       "    </tr>\n",
       "    <tr>\n",
       "      <th>4</th>\n",
       "      <td>NC_000907.1</td>\n",
       "      <td>4</td>\n",
       "      <td>4579</td>\n",
       "      <td>5391</td>\n",
       "      <td>-1</td>\n",
       "      <td>0</td>\n",
       "      <td>ATGCAGTGCTGGATTCGACAAACTATCAACTTTTTTAGAAAGACAA...</td>\n",
       "      <td>MQCWIRQTINFFRKTKNTEKLTALLQQKEDILAVEIPVSLVYNGIS...</td>\n",
       "      <td>NC_000907.1_4</td>\n",
       "      <td>0.041967</td>\n",
       "      <td>0.090288</td>\n",
       "      <td>0</td>\n",
       "    </tr>\n",
       "  </tbody>\n",
       "</table>\n",
       "</div>"
      ],
      "text/plain": [
       "        contig  id  start  stop  direction  partial  \\\n",
       "0  NC_000907.1   0      2  1021          1        1   \n",
       "1  NC_000907.1   1   1214  3013          1        0   \n",
       "2  NC_000907.1   2   3050  3835         -1        0   \n",
       "3  NC_000907.1   3   3854  4318         -1        0   \n",
       "4  NC_000907.1   4   4579  5391         -1        0   \n",
       "\n",
       "                                              DNAseq  \\\n",
       "0  ATGGCAATTAAAATTGGTATCAATGGTTTTGGTCGTATCGGCCGTA...   \n",
       "1  ATGAATCTCGATCTCCATTTTGTTCATCGTATTCAACAACAAGCCA...   \n",
       "2  ATGTATAAAGCAGTATTTAGTGATTTTAATGGCACCTTATTAACCT...   \n",
       "3  ATGGGAAGTGTATTGGTTGATTTGCAAATTGCCACAGAAAATATAG...   \n",
       "4  ATGCAGTGCTGGATTCGACAAACTATCAACTTTTTTAGAAAGACAA...   \n",
       "\n",
       "                                               AAseq         header     preds  \\\n",
       "0  MAIKIGINGFGRIGRIVFRAAQHRDDIEVVGINDLIDVEYMAYMLK...  NC_000907.1_0  0.022135   \n",
       "1  MNLDLHFVHRIQQQAKTRTNMTALRYKEHGLWRDISWKNFQEQLNQ...  NC_000907.1_1  0.257689   \n",
       "2  MYKAVFSDFNGTLLTSQHTISPRTVVVIKRLTANGIPFVPISARSP...  NC_000907.1_2  0.002766   \n",
       "3  MGSVLVDLQIATENIEGLPTEEQIVQWATGAVQPEGNEVEMTVRIV...  NC_000907.1_3  0.051427   \n",
       "4  MQCWIRQTINFFRKTKNTEKLTALLQQKEDILAVEIPVSLVYNGIS...  NC_000907.1_4  0.041967   \n",
       "\n",
       "    preds20 regions  \n",
       "0  0.089090       0  \n",
       "1  0.087848       0  \n",
       "2  0.086618       0  \n",
       "3  0.086698       0  \n",
       "4  0.090288       0  "
      ]
     },
     "execution_count": 11,
     "metadata": {},
     "output_type": "execute_result"
    }
   ],
   "source": [
    "genecalls.head()"
   ]
  }
 ],
 "metadata": {
  "kernelspec": {
   "display_name": "PhageBoost",
   "language": "python",
   "name": "phageboost"
  },
  "language_info": {
   "codemirror_mode": {
    "name": "ipython",
    "version": 3
   },
   "file_extension": ".py",
   "mimetype": "text/x-python",
   "name": "python",
   "nbconvert_exporter": "python",
   "pygments_lexer": "ipython3",
   "version": "3.7.6"
  }
 },
 "nbformat": 4,
 "nbformat_minor": 4
}
